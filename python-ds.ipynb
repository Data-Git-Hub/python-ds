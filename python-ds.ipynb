{
 "cells": [
  {
   "cell_type": "markdown",
   "metadata": {},
   "source": [
    "# Web Mining and Applied NLP (CSIS 44-620)\n",
    "\n",
    "## P2: Employ Python Data Structures, Notebooks & Engage\n",
    "\n",
    "### \n",
    "Author: Data-Git-Hub <br>\n",
    "GitHub Project Repository Link: https://github.com/Data-Git-Hub/python-ds <br>\n",
    "4 July 2025 <br>\n",
    "\n",
    "### Introduction\n",
    "In this assignment, I apply foundational Python skills related to data structures and notebook-based workflows. Using Jupyter Notebooks in VS Code, I complete a series of exercises that demonstrate proficiency with lists, dictionaries, tuples, and sets, while also exploring functions and basic control flow. The project emphasizes clear documentation using Markdown, code execution, and exporting work to HTML, reinforcing best practices for reproducibility and communication in data analytics. <br>\n",
    "\n",
    "### Tasks\n",
    "Perform the tasks described in the Markdown cells below.  When you have completed the assignment make sure your code cells have all been run (and have output beneath them) and ensure you have committed and pushed ALL of your changes to your assignment repository. <br>\n",
    "\n",
    "Every question that requires you to write code will have a code cell underneath it; you may either write your entire solution in that cell or write it in a python file (`.py`), then import and run the appropriate code to answer the question. <br>\n",
    "\n",
    "Do not use external modules (`math`, etc) for this assignment unless you are explicitly instructed to, though you may use built in python functions (`min`, `max`, etc) as you wish. <br>\n",
    "\n",
    "---"
   ]
  },
  {
   "cell_type": "markdown",
   "metadata": {},
   "source": [
    "#### Section 1. \n",
    "\n",
    "Modify the Markdown cell above to put your name after \"Student Name:\"; you will be expected to do this in all assignments presented in this format for this class. <br>\n",
    "\n",
    "---"
   ]
  },
  {
   "cell_type": "markdown",
   "metadata": {},
   "source": [
    "#### Section 2. \n",
    "\n",
    "Write code that divides any two numbers, stores the result in a variable, and prints the result with an appropriate label. <br>"
   ]
  },
  {
   "cell_type": "code",
   "execution_count": 44,
   "metadata": {},
   "outputs": [
    {
     "name": "stdout",
     "output_type": "stream",
     "text": [
      "The result of dividing 12 by 4 is 3.0\n"
     ]
    }
   ],
   "source": [
    "# Divide two numbers\n",
    "numerator = 12\n",
    "denominator = 4\n",
    "\n",
    "result = numerator / denominator\n",
    "\n",
    "# Print result with a label\n",
    "print(f\"The result of dividing {numerator} by {denominator} is {result}\")"
   ]
  },
  {
   "cell_type": "markdown",
   "metadata": {},
   "source": [
    "#### Section 3. \n",
    "\n",
    "Using loops (and potentially conditionals), write Python code that prints the factorial of each integer from 1 through 10 (which you can store in a variable if you want). The factorial of an integer is the product of all of the integers of 1 through the number. Print the result with an appropriate label. <br>"
   ]
  },
  {
   "cell_type": "code",
   "execution_count": 45,
   "metadata": {},
   "outputs": [
    {
     "name": "stdout",
     "output_type": "stream",
     "text": [
      "The factorial of 1 is 1\n",
      "The factorial of 2 is 2\n",
      "The factorial of 3 is 6\n",
      "The factorial of 4 is 24\n",
      "The factorial of 5 is 120\n",
      "The factorial of 6 is 720\n",
      "The factorial of 7 is 5040\n",
      "The factorial of 8 is 40320\n",
      "The factorial of 9 is 362880\n",
      "The factorial of 10 is 3628800\n"
     ]
    }
   ],
   "source": [
    "# Calculate and print factorials from 1 to 10\n",
    "for i in range(1, 11):\n",
    "    factorial = 1\n",
    "    for j in range(1, i + 1):\n",
    "        factorial *= j\n",
    "    print(f\"The factorial of {i} is {factorial}\")"
   ]
  },
  {
   "cell_type": "markdown",
   "metadata": {},
   "source": [
    "#### Section 4. \n",
    "\n",
    "Write a python function that takes a single parameter and calculates and returns the average (mean) of the values in the parameter (which you may assume is iterable).  Show that your function works by printing the result of calling the function on the list in the cell below. <br>"
   ]
  },
  {
   "cell_type": "code",
   "execution_count": 46,
   "metadata": {},
   "outputs": [
    {
     "name": "stdout",
     "output_type": "stream",
     "text": [
      "The mean of the list is 0.0\n"
     ]
    }
   ],
   "source": [
    "# Define a function to calculate the mean\n",
    "def calculate_mean(values):\n",
    "    return sum(values) / len(values)\n",
    "\n",
    "# Test the function\n",
    "testlist = [1, -1, 2, -2, 3, -3, 4, -4]\n",
    "mean_result = calculate_mean(testlist)\n",
    "\n",
    "# Print the result\n",
    "print(f\"The mean of the list is {mean_result}\")"
   ]
  },
  {
   "cell_type": "markdown",
   "metadata": {},
   "source": [
    "#### Section 5. \n",
    "\n",
    "Using your mean function above, write a function that calculates the variance of the list of numbers (see https://en.wikipedia.org/wiki/Variance for more information on the formula). In short: <br>\n",
    "\n",
    "* subtract the mean of the elements in the list from every element in the list; store these values in a new list <br>\n",
    "* square every element in the new list and sum the elements together <br>\n",
    "* divide the resulting number by N (where N is the length of the original list) <br>\n",
    "\n",
    "Show the result of calling your function in the lists in the code cell. You must use one or more list comprehensions or map/filter in your code. <br>\n"
   ]
  },
  {
   "cell_type": "code",
   "execution_count": 47,
   "metadata": {},
   "outputs": [
    {
     "name": "stdout",
     "output_type": "stream",
     "text": [
      "Variance of list1: 1.13973309\n",
      "Variance of list2: 0.9257232841\n"
     ]
    }
   ],
   "source": [
    "# Function to calculate variance using the previously defined calculate_mean\n",
    "def calculate_variance(values):\n",
    "    mean = calculate_mean(values)\n",
    "    squared_diffs = [(x - mean) ** 2 for x in values]\n",
    "    return sum(squared_diffs) / len(values)\n",
    "\n",
    "# Test lists\n",
    "list1 = [ 5.670e-1, -1.480e+0, -5.570e-1, -1.470e+0, 7.340e-1, 1.050e+0, 4.480e-1, 2.570e-1, -1.970e+0, -1.460e+0]\n",
    "list2 = [-1.780e+0, 2.640e-1, 1.160e+0, 9.080e-1, 1.780e+0, 1.080e+0, 1.050e+0, -4.630e-2, 1.520e+0, 5.350e-1]\n",
    "\n",
    "# Calculate and print variances\n",
    "variance1 = calculate_variance(list1)\n",
    "variance2 = calculate_variance(list2)\n",
    "\n",
    "# the variances of both lists should be relatively close to 1 (off by less than .15)\n",
    "print(f\"Variance of list1: {variance1}\")\n",
    "print(f\"Variance of list2: {variance2}\")"
   ]
  },
  {
   "cell_type": "markdown",
   "metadata": {},
   "source": [
    "#### Section 6. \n",
    "\n",
    "Create a list with at least 15 elements in it. Use list slicing to print the following: <br>\n",
    "\n",
    "* The first 5 elements of the list <br>\n",
    "* The last 5 elements of the list <br>\n",
    "* The list reversed (hint, show the entire list with a stride of -1) <br>\n",
    "* Every second element in the list <br>\n",
    "* Every third element in the list (stride of 3) <br>"
   ]
  },
  {
   "cell_type": "code",
   "execution_count": 48,
   "metadata": {},
   "outputs": [
    {
     "name": "stdout",
     "output_type": "stream",
     "text": [
      "First 5 primes: [2, 3, 5, 7, 11]\n",
      "Last 5 primes: [103, 107, 109, 113, 127]\n",
      "Reversed list: [127, 113, 109, 107, 103, 101, 97, 89, 83, 79, 73, 71, 67, 61, 59, 53, 47, 43, 41, 37, 31, 29, 23, 19, 17, 13, 11, 7, 5, 3, 2]\n",
      "Every second prime: [2, 5, 11, 17, 23, 31, 41, 47, 59, 67, 73, 83, 97, 103, 109, 127]\n",
      "Every third prime: [2, 7, 17, 29, 41, 53, 67, 79, 97, 107, 127]\n"
     ]
    }
   ],
   "source": [
    "# Manually defined list of the first 31 prime numbers\n",
    "prime_numbers = [\n",
    "     2,  3,  5,  7, 11, 13, 17, 19, 23, 29, \n",
    "    31, 37, 41, 43, 47, 53, 59, 61, 67, 71, \n",
    "    73, 79, 83, 89, 97, 101, 103, 107, 109, 113, 127\n",
    "]\n",
    "\n",
    "# Print the first 5 elements\n",
    "print(\"First 5 primes:\", prime_numbers[:5])\n",
    "\n",
    "# Print the last 5 elements\n",
    "print(\"Last 5 primes:\", prime_numbers[-5:])\n",
    "\n",
    "# Print the list reversed\n",
    "print(\"Reversed list:\", prime_numbers[::-1])\n",
    "\n",
    "# Print every second element\n",
    "print(\"Every second prime:\", prime_numbers[::2])\n",
    "\n",
    "# Print every third element\n",
    "print(\"Every third prime:\", prime_numbers[::3])"
   ]
  },
  {
   "cell_type": "markdown",
   "metadata": {},
   "source": [
    "#### Section 7. \n",
    "\n",
    "Build a dictionary that contains the following information about this class (with appropriate names as keys): <br>\n",
    "\n",
    "* The name <br>\n",
    "* The course number <br>\n",
    "* The semester/term in which you are taking this course <br>\n",
    "* The number of credit hours this course counts for <br>\n",
    "* A list of the course learning objectives <br>\n",
    "\n",
    "The majority of this information can be found in the syllabus. Print the dictionary. <br>"
   ]
  },
  {
   "cell_type": "code",
   "execution_count": 49,
   "metadata": {},
   "outputs": [
    {
     "name": "stdout",
     "output_type": "stream",
     "text": [
      "{'name': 'Web Mining & Applied Natural Language Processing (NLP)', 'c_number': '44-620', 's_term': 'Summer 2025', 'c_hours': '3 Credits', 'learn_obj': ['L01. Manage Python libraries and packages.', 'L02. Interact with Hosted Version Control Systems (e.g. Git and GitHub).', 'L03. Programmatically obtain and transform data from web-based APIs and HTML pages into a usable form.', 'L04. Describe the steps in a basic Natural Language Processing Pipeline.', 'L05. Use preexisting tools and software libraries to perform some Natural Language Processing, such as sentiment analysis.', 'L06. Explain results and conclusions drawn from the visualized.']}\n"
     ]
    }
   ],
   "source": [
    "class_info = {\n",
    "    \"name\": \"Web Mining & Applied Natural Language Processing (NLP)\",\n",
    "    \"c_number\": \"44-620\",\n",
    "    \"s_term\": \"Summer 2025\",\n",
    "    \"c_hours\": \"3 Credits\",\n",
    "    \"learn_obj\": [\n",
    "        \"L01. Manage Python libraries and packages.\",\n",
    "        \"L02. Interact with Hosted Version Control Systems (e.g. Git and GitHub).\",\n",
    "        \"L03. Programmatically obtain and transform data from web-based APIs and HTML pages into a usable form.\",\n",
    "        \"L04. Describe the steps in a basic Natural Language Processing Pipeline.\",\n",
    "        \"L05. Use preexisting tools and software libraries to perform some Natural Language Processing, such as sentiment analysis.\",\n",
    "        \"L06. Explain results and conclusions drawn from the visualized.\"\n",
    "    ]\n",
    "}\n",
    "\n",
    "print(class_info)"
   ]
  },
  {
   "cell_type": "markdown",
   "metadata": {},
   "source": [
    "#### Section 8.  \n",
    "\n",
    "Given the dictionary defined in the code cell below, print the list of level 3 spells the character has. <br>"
   ]
  },
  {
   "cell_type": "code",
   "execution_count": 50,
   "metadata": {},
   "outputs": [
    {
     "name": "stdout",
     "output_type": "stream",
     "text": [
      "Level 3 Spells: ['Mass Healing Word', 'Nondetection', 'Revivify', 'Feign Death', 'Speak with Dead']\n"
     ]
    }
   ],
   "source": [
    "player_character = {'name': 'Kitab',\n",
    "                   'class': [('Cleric: Knowledge', 7)],\n",
    "                   'spells': {'cantrip': ['Guidance', 'Light', 'Thaumaturgy', 'Toll the Dead', 'Word of Radiance'],\n",
    "                             'level 1': ['Command', 'Detect Magic', 'Healing Word', 'Identify', 'Sleep'],\n",
    "                             'level 2': ['Augury', 'Calm Emotions', 'Command', 'Invisibility', 'Lesser Restoration'],\n",
    "                             'level 3': ['Mass Healing Word', 'Nondetection', 'Revivify', 'Feign Death', 'Speak with Dead'],\n",
    "                             'level 4': ['Banishment', 'Confusion']}\n",
    "                   }\n",
    "\n",
    "# Access and print the list of level 3 spells\n",
    "level_3_spells = player_character['spells']['level 3']\n",
    "print(\"Level 3 Spells:\", level_3_spells)"
   ]
  },
  {
   "cell_type": "markdown",
   "metadata": {},
   "source": [
    "#### Section 9. \n",
    "\n",
    "Write code to determine the number of unique elements in the list below.  You MUST use a set in finding your solution.  Print the number of unique values in the list with an appropriate label. <br>"
   ]
  },
  {
   "cell_type": "code",
   "execution_count": 51,
   "metadata": {},
   "outputs": [
    {
     "name": "stdout",
     "output_type": "stream",
     "text": [
      "Number of unique values: 12\n"
     ]
    }
   ],
   "source": [
    "# List of values\n",
    "values = [10, 11, 10, 8, 1, 12, 0, 1, 6, 5, 5, 13, 6, 15, 0, 0, 1, 1, 9, 7]\n",
    "\n",
    "# Use set to find unique elements\n",
    "unique_values = set(values)\n",
    "\n",
    "# Print the number of unique values\n",
    "print(f\"Number of unique values: {len(unique_values)}\")"
   ]
  },
  {
   "cell_type": "markdown",
   "metadata": {},
   "source": [
    "#### Section 10. \n",
    "\n",
    "Create a new Jupyter Notebook (the name of the notebook should be your S number). Add a Markdown cell that contains your name. Add a Code cell and write Python that uses loops to draw the following pattern: <br>\n",
    "\n",
    "```\n",
    "*      *\n",
    "**    **\n",
    "***  ***\n",
    "********\n",
    "```\n",
    "\n",
    "Make sure to add and submit both the new notebook and the changes to this notebook for this assignment. <br>"
   ]
  }
 ],
 "metadata": {
  "kernelspec": {
   "display_name": "Python 3",
   "language": "python",
   "name": "python3"
  },
  "language_info": {
   "codemirror_mode": {
    "name": "ipython",
    "version": 3
   },
   "file_extension": ".py",
   "mimetype": "text/x-python",
   "name": "python",
   "nbconvert_exporter": "python",
   "pygments_lexer": "ipython3",
   "version": "3.13.2"
  }
 },
 "nbformat": 4,
 "nbformat_minor": 4
}
